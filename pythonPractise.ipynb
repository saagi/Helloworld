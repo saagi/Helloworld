{
  "nbformat": 4,
  "nbformat_minor": 0,
  "metadata": {
    "colab": {
      "name": "pythonPractise.ipynb",
      "provenance": [],
      "authorship_tag": "ABX9TyMqp77LXmyZp9q7taLoNB5a",
      "include_colab_link": true
    },
    "kernelspec": {
      "name": "python3",
      "display_name": "Python 3"
    },
    "language_info": {
      "name": "python"
    }
  },
  "cells": [
    {
      "cell_type": "markdown",
      "metadata": {
        "id": "view-in-github",
        "colab_type": "text"
      },
      "source": [
        "<a href=\"https://colab.research.google.com/github/saagi/Helloworld/blob/master/pythonPractise.ipynb\" target=\"_parent\"><img src=\"https://colab.research.google.com/assets/colab-badge.svg\" alt=\"Open In Colab\"/></a>"
      ]
    },
    {
      "cell_type": "markdown",
      "source": [
        "a=[1,2,3,4,5,6,7,8,14,15,21,34,56]\n",
        "left=0\n",
        "target=8\n",
        "right=len(a)-1\n",
        "#print(right)\n",
        "while (left<=right):\n",
        "  mid=int((left+right)/2)\n",
        "  print(mid)\n",
        "  if a[mid]==target:\n",
        "    print('target value positions is {}'.format(mid))\n",
        "    break\n",
        "  elif a[mid]>target:\n",
        "    right=mid\n",
        "  else:\n",
        "    left=mid\n",
        "\n",
        "\n",
        "\n",
        "\n",
        "\n",
        "\n",
        "\n",
        "\n",
        "\n",
        "\n",
        "\n",
        "\n",
        "\n",
        "\n",
        "\n",
        "\n"
      ],
      "metadata": {
        "id": "nRzjUFNIS7CL"
      }
    },
    {
      "cell_type": "code",
      "source": [
        "a=[1,2,3,4,5,6,7,8,14,15,21,34,56]\n",
        "left=0\n",
        "target=8\n",
        "right=len(a)-1\n",
        "#print(right)\n",
        "while (left<=right):\n",
        "  mid=int((left+right)/2)\n",
        "  print(mid)\n",
        "  if a[mid]==target:\n",
        "    print('target value positions is {}'.format(mid))\n",
        "    break\n",
        "  elif a[mid]>target:\n",
        "    right=mid\n",
        "  else:\n",
        "    left=mid\n",
        "\n"
      ],
      "metadata": {
        "colab": {
          "base_uri": "https://localhost:8080/"
        },
        "id": "2ANrJLudTAAS",
        "outputId": "ad990d97-798c-40a0-c24f-4e5c02cd437d"
      },
      "execution_count": 15,
      "outputs": [
        {
          "output_type": "stream",
          "name": "stdout",
          "text": [
            "6\n",
            "9\n",
            "7\n",
            "target value positions is 7\n"
          ]
        }
      ]
    },
    {
      "cell_type": "code",
      "source": [
        "a=523\n",
        "s=0\n",
        "while(a!=0):\n",
        "  k=a%10\n",
        "  s=s*10+k\n",
        "  a=int(a/10)\n",
        "  print('k={}'.format(k))\n",
        "  print(a)\n",
        "print(s)"
      ],
      "metadata": {
        "colab": {
          "base_uri": "https://localhost:8080/"
        },
        "id": "o2wYv3m5ZVZ1",
        "outputId": "915240b2-416b-4b15-fc02-8e319b7d0040"
      },
      "execution_count": 6,
      "outputs": [
        {
          "output_type": "stream",
          "name": "stdout",
          "text": [
            "k=3\n",
            "52\n",
            "k=2\n",
            "5\n",
            "k=5\n",
            "0\n",
            "325\n"
          ]
        }
      ]
    },
    {
      "cell_type": "code",
      "source": [
        "s='sky'\n",
        "def pal(s):\n",
        "  l=len(s)\n",
        "  new=''\n",
        "  for i in range(l-1,-1,-1):\n",
        "    new+=(s[i])\n",
        "  print(new)\n",
        "\n",
        "pal(s)"
      ],
      "metadata": {
        "colab": {
          "base_uri": "https://localhost:8080/"
        },
        "id": "p9jAtbNzZb3H",
        "outputId": "8999c6b7-f4c7-4ae2-b8a0-85590e48aff2"
      },
      "execution_count": 11,
      "outputs": [
        {
          "output_type": "stream",
          "name": "stdout",
          "text": [
            "yks\n"
          ]
        }
      ]
    },
    {
      "cell_type": "code",
      "source": [
        ""
      ],
      "metadata": {
        "id": "MoIBOY0dZV1B"
      },
      "execution_count": null,
      "outputs": []
    },
    {
      "cell_type": "code",
      "source": [
        ""
      ],
      "metadata": {
        "id": "EEuyi7rXZV5I"
      },
      "execution_count": null,
      "outputs": []
    }
  ]
}